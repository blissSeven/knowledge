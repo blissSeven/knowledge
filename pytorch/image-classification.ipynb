{
 "cells": [
  {
   "cell_type": "markdown",
   "metadata": {},
   "source": [
    "# 图像分类原理\n",
    "## 感知机\n",
    "## 全连接层\n",
    "## 卷积神经网络\n",
    "### Imagenet\n",
    "### VGG\n",
    "* 证明了随着模型深度的增加，模型效果越好\n",
    "* 使用较小的3x3的卷积，代替了alexnet中的11x11,7x7以及5x5的大卷积核\n",
    "  * 将5x5的卷积用2层3x3的卷积替换，将7x7的卷积用3层3x3的卷积替换，减少了网络参数\n",
    "  * 在相同感受野的情况下，加深了网络参数，从而提取更多非线性的信息\n",
    "### GoogLeNet\n",
    "* 以不同尺度的卷积来提取不同的特征\n",
    "* inception模块\n",
    "  * ![](images/image-classification-2022-10-03-20-40-46.png)\n",
    "### ResNet\n",
    "* 网络退化问题\n",
    "  * 当一个网络可以开始收敛时，随着网络层数的增加，网络的精度逐渐达到饱和，并且会迅速降低。这里精度降低的原因并不是过拟合造成的\n",
    "  * 假设 20 层是一个最优的网络，通过加深到 56 层之后，理论上后面的 36 层是可以通过学习到一个恒等映射的，也就是说理论上不会学习到一个比 26 层还差的网络。所以，作者猜测网络不能很容易地学习到恒等映射 (恒等映射就是 f(x)=x)\n",
    "* 残差学习\n",
    "  * 因为网络不容易学习到恒等映射，所以就让它强制添加一个恒等映射\n",
    "  * ![](images/image-classification-2022-10-03-20-52-01.png)\n",
    "\n"
   ]
  },
  {
   "cell_type": "code",
   "execution_count": 2,
   "metadata": {},
   "outputs": [
    {
     "name": "stdout",
     "output_type": "stream",
     "text": [
      "tensor([-0.0991, -0.7567])\n",
      "tensor([0.6587, 0.3413])\n"
     ]
    }
   ],
   "source": [
    "## softmax\n",
    "\n",
    "import torch\n",
    "import torch.nn as nn\n",
    "\n",
    "y=torch.randn(2)\n",
    "print(y)\n",
    "m=nn.Softmax(dim=0)\n",
    "out=m(y)\n",
    "print(out)"
   ]
  },
  {
   "cell_type": "code",
   "execution_count": 3,
   "metadata": {},
   "outputs": [
    {
     "name": "stdout",
     "output_type": "stream",
     "text": [
      "tensor([[-3.1655, -6.3710]], grad_fn=<AddmmBackward0>)\n",
      "tensor([[0.9610, 0.0390]], grad_fn=<SoftmaxBackward0>)\n"
     ]
    }
   ],
   "source": [
    "x= torch.randint(0,255,(1,128*128),dtype=torch.float32)\n",
    "fc = nn.Linear(128*128,2)\n",
    "y=fc(x)\n",
    "print(y)\n",
    "\n",
    "output = nn.Softmax(dim=1)(y)\n",
    "print(output)"
   ]
  }
 ],
 "metadata": {
  "kernelspec": {
   "display_name": "Python 3.8.13 ('pytorch')",
   "language": "python",
   "name": "python3"
  },
  "language_info": {
   "codemirror_mode": {
    "name": "ipython",
    "version": 3
   },
   "file_extension": ".py",
   "mimetype": "text/x-python",
   "name": "python",
   "nbconvert_exporter": "python",
   "pygments_lexer": "ipython3",
   "version": "3.8.13"
  },
  "orig_nbformat": 4,
  "vscode": {
   "interpreter": {
    "hash": "95dc1df185fd18e9076d56f64a89076aab4b6948bfab183b6c1ff3b5009283ae"
   }
  }
 },
 "nbformat": 4,
 "nbformat_minor": 2
}
