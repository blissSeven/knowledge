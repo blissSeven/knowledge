{
 "cells": [
  {
   "cell_type": "markdown",
   "metadata": {},
   "source": [
    "# 可视化监控训练过程\n",
    "## tensorboardX\n",
    "* pytorch 1.8 之后自带tensorboardx `torch.utils.tensorboard`\n",
    "* `pip install tensorboardX`\n",
    "* 使用\n",
    "  * `torch.utils.tensorboard.writer.SummaryWriter(log_dir=None)`\n",
    "    * 新建writer实例，log_dir为日志保存的路径，默认在runs/当前时间_主机名 文件夹\n",
    "  * `add_scalar(tag, scalar_value, global_step=None, walltime=None)`\n",
    "    * tag 字符串，表明数据名称，不同名称不同曲线\n",
    "    * scalar_value 浮点，要保存的数据\n",
    "    * global_step 训练的step\n",
    "    * walltime 浮点数，记录发生的时间 默认time.time()\n",
    "  * `add_image(tag, img_tensor, global_step=None, walltime=None, dataformats='CHW')`\n",
    "    * img_tensor tensor类型或者numpy中的array类型，表示图像\n",
    "    * dataformats 字符串，默认CHW channel x height x width 或者CHW,HWC,HW等"
   ]
  },
  {
   "cell_type": "code",
   "execution_count": 2,
   "metadata": {},
   "outputs": [],
   "source": [
    "#使用\n",
    "from torch.utils.tensorboard import SummaryWriter\n",
    "import numpy as np\n",
    "\n",
    "writer  = SummaryWriter()\n",
    "\n",
    "for n_iter in range(100):\n",
    "    writer.add_scalar('Loss/train',np.random.random(), n_iter)\n",
    "    writer.add_scalar('Loss/test',np.random.random(), n_iter)\n",
    "    writer.add_scalar('Accuracy/train',np.random.random(), n_iter)\n",
    "    writer.add_scalar('Accuracy/test',np.random.random(), n_iter)\n",
    "img = np.zeros((3, 100, 100))\n",
    "\n",
    "img[0] = np.arange(0,10000).reshape(100,100)/10000\n",
    "img[0] = 1- np.arange(0,10000).reshape(100,100)/10000\n",
    "\n",
    "writer.add_image('my_image', img, 0)\n",
    "writer.close()\n",
    "\n",
    "## 之后在本地运行 tensorboard --logdir=runs"
   ]
  },
  {
   "cell_type": "code",
   "execution_count": 4,
   "metadata": {},
   "outputs": [],
   "source": [
    "# 训练过程可视化\n",
    "import random\n",
    "import numpy as np\n",
    "import torch\n",
    "from torch import nn\n",
    "\n",
    "class LinearModel(nn.Module):\n",
    "    def __init__(self):\n",
    "        super().__init__()\n",
    "        self.weight = nn.Parameter(torch.randn(1))\n",
    "        self.bias = nn.Parameter(torch.randn(1))\n",
    "    def forward(self, input):\n",
    "        return (input*self.weight)+self.bias\n",
    "w =2\n",
    "b=3\n",
    "xlim = [-10, 10]\n",
    "x_train = np.random.randint(low=xlim[0], high=xlim[1], size=30)\n",
    "y_train = [w*x+b +random.randint(0,2) for x in x_train]\n",
    "\n",
    "from torch.utils.tensorboard import SummaryWriter\n",
    "\n",
    "model = LinearModel()\n",
    "optimizer = torch.optim.SGD(model.parameters(), lr=1e-4, weight_decay=1e-2, momentum=0.9)\n",
    "\n",
    "y_train=torch.tensor(y_train,dtype=torch.float32)\n",
    "\n",
    "writer = SummaryWriter()\n",
    "\n",
    "for n_iter in range(500):\n",
    "    input = torch.from_numpy(x_train)\n",
    "    output = model(input)\n",
    "    loss = nn.MSELoss()(output, y_train)\n",
    "    model.zero_grad()\n",
    "    loss.backward()\n",
    "    optimizer.step()\n",
    "    writer.add_scalar('Loss/Train',loss,n_iter)"
   ]
  },
  {
   "cell_type": "markdown",
   "metadata": {},
   "source": [
    "## visdom\n",
    "* 实时显示曲线\n",
    "* `pythom -m visdom.server`\n",
    "* 先启动visdom后，再查看 `127.0.0.1:8097`"
   ]
  },
  {
   "cell_type": "code",
   "execution_count": 5,
   "metadata": {},
   "outputs": [
    {
     "name": "stderr",
     "output_type": "stream",
     "text": [
      "Setting up a new session...\n"
     ]
    },
    {
     "data": {
      "text/plain": [
       "'window_3b237e82fbaf9a'"
      ]
     },
     "execution_count": 5,
     "metadata": {},
     "output_type": "execute_result"
    }
   ],
   "source": [
    "\n",
    "from visdom import Visdom\n",
    "import numpy as np\n",
    "import time\n",
    "\n",
    "# 将窗口类实例化\n",
    "viz = Visdom() \n",
    "# 创建窗口并初始化\n",
    "viz.line([0.], [0], win='train_loss', opts=dict(title='train_loss'))\n",
    "# viz.line([[0., 0.]], [0], win='loss and accuracy', opts=dict(title='train_loss'))\n",
    "\n",
    "for n_iter in range(10):\n",
    "    # 随机获取loss值\n",
    "    loss = 0.2 * np.random.randn() + 1\n",
    "    # 更新窗口图像\n",
    "    viz.line([loss], [n_iter], win='train_loss', update='append')\n",
    "    # viz.line(Y=[[loss, accuracy]], X=[n_iter], win='loss and accuracy', update='append')\n",
    "    time.sleep(0.5)\n",
    "\n",
    "img = np.zeros((3, 100, 100))\n",
    "img[0] = np.arange(0, 10000).reshape(100, 100) / 10000\n",
    "img[1] = 1 - np.arange(0, 10000).reshape(100, 100) / 10000\n",
    "# 可视化图像\n",
    "viz.image(img)"
   ]
  },
  {
   "cell_type": "code",
   "execution_count": 12,
   "metadata": {},
   "outputs": [
    {
     "name": "stderr",
     "output_type": "stream",
     "text": [
      "Setting up a new session...\n"
     ]
    }
   ],
   "source": [
    "from visdom import Visdom\n",
    "\n",
    "import random\n",
    "import numpy as np\n",
    "import torch\n",
    "from torch import nn\n",
    "import time\n",
    "\n",
    "\n",
    "class LinearModel(nn.Module):\n",
    "    def __init__(self):\n",
    "        super().__init__()\n",
    "        self.weight = nn.Parameter(torch.randn(1))\n",
    "        self.bias = nn.Parameter(torch.randn(1))\n",
    "    def forward(self, input):\n",
    "        return (input*self.weight)+self.bias\n",
    "w =2\n",
    "b=3\n",
    "xlim = [-10, 10]\n",
    "x_train = np.random.randint(low=xlim[0], high=xlim[1], size=30)\n",
    "y_train = [w*x+b +random.randint(0,2) for x in x_train]\n",
    "\n",
    "from torch.utils.tensorboard import SummaryWriter\n",
    "\n",
    "model = LinearModel()\n",
    "optimizer = torch.optim.SGD(model.parameters(), lr=1e-4, weight_decay=1e-2, momentum=0.9)\n",
    "\n",
    "y_train=torch.tensor(y_train,dtype=torch.float32)\n",
    "\n",
    "# writer = SummaryWriter()\n",
    "viz = Visdom(port=8097)\n",
    "viz.line([0.],[0],win='train_loss',opts=dict(title='train_loss'))\n",
    "\n",
    "for n_iter in range(500):\n",
    "    input = torch.from_numpy(x_train)\n",
    "    output = model(input)\n",
    "    loss = nn.MSELoss()(output, y_train)\n",
    "    model.zero_grad()\n",
    "    loss.backward()\n",
    "    optimizer.step()\n",
    "    viz.line([loss.item()],[n_iter],win='train_loss',update='append')\n",
    "    # writer.add_scalar('Loss/Train',loss,n_iter)\n"
   ]
  }
 ],
 "metadata": {
  "kernelspec": {
   "display_name": "Python 3.8.13 ('pytorch')",
   "language": "python",
   "name": "python3"
  },
  "language_info": {
   "codemirror_mode": {
    "name": "ipython",
    "version": 3
   },
   "file_extension": ".py",
   "mimetype": "text/x-python",
   "name": "python",
   "nbconvert_exporter": "python",
   "pygments_lexer": "ipython3",
   "version": "3.8.13"
  },
  "orig_nbformat": 4,
  "vscode": {
   "interpreter": {
    "hash": "95dc1df185fd18e9076d56f64a89076aab4b6948bfab183b6c1ff3b5009283ae"
   }
  }
 },
 "nbformat": 4,
 "nbformat_minor": 2
}
